{
 "cells": [
  {
   "cell_type": "code",
   "execution_count": 1,
   "metadata": {},
   "outputs": [
    {
     "name": "stderr",
     "output_type": "stream",
     "text": [
      "Loading required package: pacman\n",
      "\n"
     ]
    }
   ],
   "source": [
    "if (!require(\"pacman\")) install.packages(\"pacman\")\n",
    "pkgs = c('tidyverse', 'readxl', 'openxlsx', 'stringr', 'xlsx')\n",
    "pacman::p_load(pkgs, character.only=TRUE)"
   ]
  },
  {
   "cell_type": "markdown",
   "metadata": {},
   "source": [
    "## เกริ่นนำ\n",
    "มีหลาย package ที่ ในที่นี้ขอพูดถึง 3 packages คือ `xlsx` `readxl` และ `openxlsx`\n",
    "โดยแต่ละ package มีข้อดี ที่แตกต่างกันออกไป สรุปได้ตามตารางข้างล่าง\n",
    "\n",
    "| ข้อดี | xlsx | readxl | openxlxs |\n",
    "|-------|------|--------|--------|\n",
    "| สามารถอ่านไฟล์ภาษาไทย      | ✔ | ❌ | ❌ |\n",
    "| สามารถอ่านไฟล์ xlsx และ xls| ✔ | ✔ | ❌ |\n",
    "| สามารบันทึกไฟล์ excel      | ✔ | ❌ | ✔ |\n",
    "| ไม่ต้อง install java      | ❌ | ✔ | ✔ |\n"
   ]
  },
  {
   "cell_type": "code",
   "execution_count": 8,
   "metadata": {},
   "outputs": [],
   "source": [
    "# สร้าง path\n",
    "path_xls = 'data/test.xls'\n",
    "path_xlsx = 'data/test.xlsx'\n",
    "path_th = 'data/ทดสอบ.xlsx'"
   ]
  },
  {
   "cell_type": "markdown",
   "metadata": {},
   "source": [
    "## readxl"
   ]
  },
  {
   "cell_type": "code",
   "execution_count": 13,
   "metadata": {},
   "outputs": [
    {
     "data": {
      "text/html": [
       "<table>\n",
       "<caption>A tibble: 6 × 4</caption>\n",
       "<thead>\n",
       "\t<tr><th scope=col>date</th><th scope=col>product</th><th scope=col>price</th><th scope=col>quantity</th></tr>\n",
       "\t<tr><th scope=col>&lt;dttm&gt;</th><th scope=col>&lt;chr&gt;</th><th scope=col>&lt;dbl&gt;</th><th scope=col>&lt;dbl&gt;</th></tr>\n",
       "</thead>\n",
       "<tbody>\n",
       "\t<tr><td>2562-04-01</td><td>ทุเรียน</td><td>120</td><td>500</td></tr>\n",
       "\t<tr><td>2562-04-01</td><td>มังคุด </td><td> 50</td><td>300</td></tr>\n",
       "\t<tr><td>2562-04-01</td><td>ลำไย   </td><td> 30</td><td>400</td></tr>\n",
       "\t<tr><td>2562-05-01</td><td>ทุเรียน</td><td>130</td><td>600</td></tr>\n",
       "\t<tr><td>2562-05-01</td><td>มังคุด </td><td> 40</td><td>200</td></tr>\n",
       "\t<tr><td>2562-05-01</td><td>ลำไย   </td><td> 20</td><td>500</td></tr>\n",
       "</tbody>\n",
       "</table>\n"
      ],
      "text/latex": [
       "A tibble: 6 × 4\n",
       "\\begin{tabular}{llll}\n",
       " date & product & price & quantity\\\\\n",
       " <dttm> & <chr> & <dbl> & <dbl>\\\\\n",
       "\\hline\n",
       "\t 2562-04-01 & ทุเรียน & 120 & 500\\\\\n",
       "\t 2562-04-01 & มังคุด  &  50 & 300\\\\\n",
       "\t 2562-04-01 & ลำไย    &  30 & 400\\\\\n",
       "\t 2562-05-01 & ทุเรียน & 130 & 600\\\\\n",
       "\t 2562-05-01 & มังคุด  &  40 & 200\\\\\n",
       "\t 2562-05-01 & ลำไย    &  20 & 500\\\\\n",
       "\\end{tabular}\n"
      ],
      "text/markdown": [
       "\n",
       "A tibble: 6 × 4\n",
       "\n",
       "| date &lt;dttm&gt; | product &lt;chr&gt; | price &lt;dbl&gt; | quantity &lt;dbl&gt; |\n",
       "|---|---|---|---|\n",
       "| 2562-04-01 | ทุเรียน | 120 | 500 |\n",
       "| 2562-04-01 | มังคุด  |  50 | 300 |\n",
       "| 2562-04-01 | ลำไย    |  30 | 400 |\n",
       "| 2562-05-01 | ทุเรียน | 130 | 600 |\n",
       "| 2562-05-01 | มังคุด  |  40 | 200 |\n",
       "| 2562-05-01 | ลำไย    |  20 | 500 |\n",
       "\n"
      ],
      "text/plain": [
       "  date       product price quantity\n",
       "1 2562-04-01 ทุเรียน 120   500     \n",
       "2 2562-04-01 มังคุด   50   300     \n",
       "3 2562-04-01 ลำไย     30   400     \n",
       "4 2562-05-01 ทุเรียน 130   600     \n",
       "5 2562-05-01 มังคุด   40   200     \n",
       "6 2562-05-01 ลำไย     20   500     "
      ]
     },
     "metadata": {},
     "output_type": "display_data"
    }
   ],
   "source": [
    "readxl::read_excel(path_xls)"
   ]
  },
  {
   "cell_type": "code",
   "execution_count": 11,
   "metadata": {},
   "outputs": [
    {
     "data": {
      "text/html": [
       "<table>\n",
       "<caption>A tibble: 6 × 4</caption>\n",
       "<thead>\n",
       "\t<tr><th scope=col>date</th><th scope=col>product</th><th scope=col>price</th><th scope=col>quantity</th></tr>\n",
       "\t<tr><th scope=col>&lt;dttm&gt;</th><th scope=col>&lt;chr&gt;</th><th scope=col>&lt;dbl&gt;</th><th scope=col>&lt;dbl&gt;</th></tr>\n",
       "</thead>\n",
       "<tbody>\n",
       "\t<tr><td>2562-04-01</td><td>ทุเรียน</td><td>120</td><td>500</td></tr>\n",
       "\t<tr><td>2562-04-01</td><td>มังคุด </td><td> 50</td><td>300</td></tr>\n",
       "\t<tr><td>2562-04-01</td><td>ลำไย   </td><td> 30</td><td>400</td></tr>\n",
       "\t<tr><td>2562-05-01</td><td>ทุเรียน</td><td>130</td><td>600</td></tr>\n",
       "\t<tr><td>2562-05-01</td><td>มังคุด </td><td> 40</td><td>200</td></tr>\n",
       "\t<tr><td>2562-05-01</td><td>ลำไย   </td><td> 20</td><td>500</td></tr>\n",
       "</tbody>\n",
       "</table>\n"
      ],
      "text/latex": [
       "A tibble: 6 × 4\n",
       "\\begin{tabular}{llll}\n",
       " date & product & price & quantity\\\\\n",
       " <dttm> & <chr> & <dbl> & <dbl>\\\\\n",
       "\\hline\n",
       "\t 2562-04-01 & ทุเรียน & 120 & 500\\\\\n",
       "\t 2562-04-01 & มังคุด  &  50 & 300\\\\\n",
       "\t 2562-04-01 & ลำไย    &  30 & 400\\\\\n",
       "\t 2562-05-01 & ทุเรียน & 130 & 600\\\\\n",
       "\t 2562-05-01 & มังคุด  &  40 & 200\\\\\n",
       "\t 2562-05-01 & ลำไย    &  20 & 500\\\\\n",
       "\\end{tabular}\n"
      ],
      "text/markdown": [
       "\n",
       "A tibble: 6 × 4\n",
       "\n",
       "| date &lt;dttm&gt; | product &lt;chr&gt; | price &lt;dbl&gt; | quantity &lt;dbl&gt; |\n",
       "|---|---|---|---|\n",
       "| 2562-04-01 | ทุเรียน | 120 | 500 |\n",
       "| 2562-04-01 | มังคุด  |  50 | 300 |\n",
       "| 2562-04-01 | ลำไย    |  30 | 400 |\n",
       "| 2562-05-01 | ทุเรียน | 130 | 600 |\n",
       "| 2562-05-01 | มังคุด  |  40 | 200 |\n",
       "| 2562-05-01 | ลำไย    |  20 | 500 |\n",
       "\n"
      ],
      "text/plain": [
       "  date       product price quantity\n",
       "1 2562-04-01 ทุเรียน 120   500     \n",
       "2 2562-04-01 มังคุด   50   300     \n",
       "3 2562-04-01 ลำไย     30   400     \n",
       "4 2562-05-01 ทุเรียน 130   600     \n",
       "5 2562-05-01 มังคุด   40   200     \n",
       "6 2562-05-01 ลำไย     20   500     "
      ]
     },
     "metadata": {},
     "output_type": "display_data"
    }
   ],
   "source": [
    "readxl::read_excel(path_xlsx)"
   ]
  },
  {
   "cell_type": "code",
   "execution_count": 19,
   "metadata": {},
   "outputs": [
    {
     "ename": "ERROR",
     "evalue": "Error: Evaluation error: zip file 'C:\\Users\\Natty\\Documents\\github\\nabc\\R\\data\\ทดสอบ.xlsx' cannot be opened.\n",
     "output_type": "error",
     "traceback": [
      "Error: Evaluation error: zip file 'C:\\Users\\Natty\\Documents\\github\\nabc\\R\\data\\ทดสอบ.xlsx' cannot be opened.\nTraceback:\n",
      "1. readxl::read_excel(path_th)",
      "2. read_excel_(path = path, sheet = sheet, range = range, col_names = col_names, \n .     col_types = col_types, na = na, trim_ws = trim_ws, skip = skip, \n .     n_max = n_max, guess_max = guess_max, progress = progress, \n .     .name_repair = .name_repair, format = format)",
      "3. set_readxl_names(read_fun(path = enc2native(normalizePath(path)), \n .     sheet_i = sheet, limits = limits, shim = shim, col_names = col_names, \n .     col_types = col_types, na = na, trim_ws = trim_ws, guess_max = guess_max, \n .     progress = progress), .name_repair = .name_repair)",
      "4. tibble::as_tibble(l, .name_repair = .name_repair)",
      "5. read_fun(path = enc2native(normalizePath(path)), sheet_i = sheet, \n .     limits = limits, shim = shim, col_names = col_names, col_types = col_types, \n .     na = na, trim_ws = trim_ws, guess_max = guess_max, progress = progress)"
     ]
    }
   ],
   "source": [
    "# ไม่สามารถอ่านไฟล์ภาษาไทยได้\n",
    "readxl::read_excel(path_th)"
   ]
  },
  {
   "cell_type": "code",
   "execution_count": 14,
   "metadata": {},
   "outputs": [
    {
     "data": {
      "text/html": [
       "<pre class=language-r><code>function (path, sheet = NULL, range = NULL, col_names = TRUE, \n",
       "<span style=white-space:pre-wrap>    col_types = NULL, na = \"\", trim_ws = TRUE, skip = 0, n_max = Inf, </span>\n",
       "<span style=white-space:pre-wrap>    guess_max = min(1000, n_max), progress = readxl_progress(), </span>\n",
       "<span style=white-space:pre-wrap>    .name_repair = \"unique\") </span>\n",
       "NULL</code></pre>"
      ],
      "text/latex": [
       "\\begin{minted}{r}\n",
       "function (path, sheet = NULL, range = NULL, col\\_names = TRUE, \n",
       "    col\\_types = NULL, na = \"\", trim\\_ws = TRUE, skip = 0, n\\_max = Inf, \n",
       "    guess\\_max = min(1000, n\\_max), progress = readxl\\_progress(), \n",
       "    .name\\_repair = \"unique\") \n",
       "NULL\n",
       "\\end{minted}"
      ],
      "text/markdown": [
       "```r\n",
       "function (path, sheet = NULL, range = NULL, col_names = TRUE, \n",
       "    col_types = NULL, na = \"\", trim_ws = TRUE, skip = 0, n_max = Inf, \n",
       "    guess_max = min(1000, n_max), progress = readxl_progress(), \n",
       "    .name_repair = \"unique\") \n",
       "NULL\n",
       "```"
      ],
      "text/plain": [
       "function (path, sheet = NULL, range = NULL, col_names = TRUE, \n",
       "    col_types = NULL, na = \"\", trim_ws = TRUE, skip = 0, n_max = Inf, \n",
       "    guess_max = min(1000, n_max), progress = readxl_progress(), \n",
       "    .name_repair = \"unique\") \n",
       "NULL"
      ]
     },
     "metadata": {},
     "output_type": "display_data"
    }
   ],
   "source": [
    "args(readxl::read_excel)"
   ]
  },
  {
   "cell_type": "markdown",
   "metadata": {},
   "source": [
    "## openxlsx"
   ]
  },
  {
   "cell_type": "code",
   "execution_count": 16,
   "metadata": {},
   "outputs": [
    {
     "data": {
      "text/html": [
       "<table>\n",
       "<caption>A data.frame: 6 × 4</caption>\n",
       "<thead>\n",
       "\t<tr><th></th><th scope=col>date</th><th scope=col>product</th><th scope=col>price</th><th scope=col>quantity</th></tr>\n",
       "\t<tr><th></th><th scope=col>&lt;dbl&gt;</th><th scope=col>&lt;chr&gt;</th><th scope=col>&lt;dbl&gt;</th><th scope=col>&lt;dbl&gt;</th></tr>\n",
       "</thead>\n",
       "<tbody>\n",
       "\t<tr><th scope=row>1</th><td>241883</td><td>ทุเรียน</td><td>120</td><td>500</td></tr>\n",
       "\t<tr><th scope=row>2</th><td>241883</td><td>มังคุด </td><td> 50</td><td>300</td></tr>\n",
       "\t<tr><th scope=row>3</th><td>241883</td><td>ลำไย   </td><td> 30</td><td>400</td></tr>\n",
       "\t<tr><th scope=row>4</th><td>241913</td><td>ทุเรียน</td><td>130</td><td>600</td></tr>\n",
       "\t<tr><th scope=row>5</th><td>241913</td><td>มังคุด </td><td> 40</td><td>200</td></tr>\n",
       "\t<tr><th scope=row>6</th><td>241913</td><td>ลำไย   </td><td> 20</td><td>500</td></tr>\n",
       "</tbody>\n",
       "</table>\n"
      ],
      "text/latex": [
       "A data.frame: 6 × 4\n",
       "\\begin{tabular}{r|llll}\n",
       "  & date & product & price & quantity\\\\\n",
       "  & <dbl> & <chr> & <dbl> & <dbl>\\\\\n",
       "\\hline\n",
       "\t1 & 241883 & ทุเรียน & 120 & 500\\\\\n",
       "\t2 & 241883 & มังคุด  &  50 & 300\\\\\n",
       "\t3 & 241883 & ลำไย    &  30 & 400\\\\\n",
       "\t4 & 241913 & ทุเรียน & 130 & 600\\\\\n",
       "\t5 & 241913 & มังคุด  &  40 & 200\\\\\n",
       "\t6 & 241913 & ลำไย    &  20 & 500\\\\\n",
       "\\end{tabular}\n"
      ],
      "text/markdown": [
       "\n",
       "A data.frame: 6 × 4\n",
       "\n",
       "| <!--/--> | date &lt;dbl&gt; | product &lt;chr&gt; | price &lt;dbl&gt; | quantity &lt;dbl&gt; |\n",
       "|---|---|---|---|---|\n",
       "| 1 | 241883 | ทุเรียน | 120 | 500 |\n",
       "| 2 | 241883 | มังคุด  |  50 | 300 |\n",
       "| 3 | 241883 | ลำไย    |  30 | 400 |\n",
       "| 4 | 241913 | ทุเรียน | 130 | 600 |\n",
       "| 5 | 241913 | มังคุด  |  40 | 200 |\n",
       "| 6 | 241913 | ลำไย    |  20 | 500 |\n",
       "\n"
      ],
      "text/plain": [
       "  date   product price quantity\n",
       "1 241883 ทุเรียน 120   500     \n",
       "2 241883 มังคุด   50   300     \n",
       "3 241883 ลำไย     30   400     \n",
       "4 241913 ทุเรียน 130   600     \n",
       "5 241913 มังคุด   40   200     \n",
       "6 241913 ลำไย     20   500     "
      ]
     },
     "metadata": {},
     "output_type": "display_data"
    }
   ],
   "source": [
    "openxlsx::read.xlsx(path_xlsx)"
   ]
  },
  {
   "cell_type": "code",
   "execution_count": 17,
   "metadata": {},
   "outputs": [
    {
     "ename": "ERROR",
     "evalue": "Error in read.xlsx.default(path_xls): openxlsx can not read .xls or .xlm files!\n",
     "output_type": "error",
     "traceback": [
      "Error in read.xlsx.default(path_xls): openxlsx can not read .xls or .xlm files!\nTraceback:\n",
      "1. openxlsx::read.xlsx(path_xls)",
      "2. read.xlsx.default(path_xls)",
      "3. stop(\"openxlsx can not read .xls or .xlm files!\")"
     ]
    }
   ],
   "source": [
    "openxlsx::read.xlsx(path_xls)"
   ]
  },
  {
   "cell_type": "code",
   "execution_count": 20,
   "metadata": {},
   "outputs": [
    {
     "name": "stderr",
     "output_type": "stream",
     "text": [
      "Warning message in unzip(xlsxFile, exdir = xmlDir):\n",
      "\"error 1 in extracting from zip file\"\n"
     ]
    },
    {
     "ename": "ERROR",
     "evalue": "Error in file(con, \"r\"): invalid 'description' argument\n",
     "output_type": "error",
     "traceback": [
      "Error in file(con, \"r\"): invalid 'description' argument\nTraceback:\n",
      "1. openxlsx::read.xlsx(path_th)",
      "2. read.xlsx.default(path_th)",
      "3. paste(readLines(workbookRelsXML, warn = FALSE, encoding = \"UTF-8\"), \n .     collapse = \"\")",
      "4. readLines(workbookRelsXML, warn = FALSE, encoding = \"UTF-8\")",
      "5. file(con, \"r\")"
     ]
    }
   ],
   "source": [
    "openxlsx::read.xlsx(path_th)"
   ]
  },
  {
   "cell_type": "markdown",
   "metadata": {},
   "source": [
    "## xlsx"
   ]
  },
  {
   "cell_type": "markdown",
   "metadata": {},
   "source": [
    "- install `xlsx` package พิมพ์คำสั่ง `install.packages('xlsx')`\n",
    "\n",
    "- **install java** https://www.java.com/en/download/\n",
    "\n",
    "- set path to java"
   ]
  },
  {
   "cell_type": "markdown",
   "metadata": {},
   "source": [
    "**Function**  \n",
    "`xlsx::read.xlsx2()`\n",
    "\n",
    "**Argument ที่สำคัญ**\n",
    "- `file` : (character) path ของ ไฟล์\n",
    "- `sheetIndex` : (numeric) ลำดับของ sheet ที่ต้องการ เลือกอย่างใดอย่างหนึ่งระหว่าง Index หรือ Name\n",
    "- `sheetName` : (character) ชื่อของ sheet ที่ต้องการ  (default = NULL)\n",
    "- `header` : (logical) จะใช้แถวแรกเป็นชื่อตารางหรือไม่ (default = TRUE) \n",
    "- `startRow` : (numeric) แถวแรกที่ต้องการใช้ข้อมูล (default = 1 รวมชื่อตาราง)\n",
    "- `endRow` : (numeric) แถวสุดท้ายที่ต้องการใช้ข้อมูล (default = NULL หมายความว่าดึงข้อมูลถึงแถวสุดท้าย)\n",
    "- `colIndex` : (numeric vector) คอลัมน์ที่ต้องการใช้ข้อมูล เช่น 1:4\n",
    "- `colClasses` : (character vector) บอกประเภทข้อมูลของแต่ละคอลัมน์ \"character\" \"numeric\" \"Date\" โดยขนาดของ vector ต้องเท่ากับขนาดของ column โดยการบอกประเภทของข้อมูลจะช่วยเพิ่มความเร็วในการโหลดข้อมูล"
   ]
  },
  {
   "cell_type": "code",
   "execution_count": 80,
   "metadata": {},
   "outputs": [
    {
     "data": {
      "text/html": [
       "<table>\n",
       "<caption>A data.frame: 6 × 4</caption>\n",
       "<thead>\n",
       "\t<tr><th scope=col>date</th><th scope=col>product</th><th scope=col>price</th><th scope=col>quantity</th></tr>\n",
       "\t<tr><th scope=col>&lt;date&gt;</th><th scope=col>&lt;chr&gt;</th><th scope=col>&lt;dbl&gt;</th><th scope=col>&lt;dbl&gt;</th></tr>\n",
       "</thead>\n",
       "<tbody>\n",
       "\t<tr><td>2562-04-01</td><td>ทุเรียน</td><td>120</td><td>500</td></tr>\n",
       "\t<tr><td>2562-04-01</td><td>มังคุด </td><td> 50</td><td>300</td></tr>\n",
       "\t<tr><td>2562-04-01</td><td>ลำไย   </td><td> 30</td><td>400</td></tr>\n",
       "\t<tr><td>2562-05-01</td><td>ทุเรียน</td><td>130</td><td>600</td></tr>\n",
       "\t<tr><td>2562-05-01</td><td>มังคุด </td><td> 40</td><td>200</td></tr>\n",
       "\t<tr><td>2562-05-01</td><td>ลำไย   </td><td> 20</td><td>500</td></tr>\n",
       "</tbody>\n",
       "</table>\n"
      ],
      "text/latex": [
       "A data.frame: 6 × 4\n",
       "\\begin{tabular}{llll}\n",
       " date & product & price & quantity\\\\\n",
       " <date> & <chr> & <dbl> & <dbl>\\\\\n",
       "\\hline\n",
       "\t 2562-04-01 & ทุเรียน & 120 & 500\\\\\n",
       "\t 2562-04-01 & มังคุด  &  50 & 300\\\\\n",
       "\t 2562-04-01 & ลำไย    &  30 & 400\\\\\n",
       "\t 2562-05-01 & ทุเรียน & 130 & 600\\\\\n",
       "\t 2562-05-01 & มังคุด  &  40 & 200\\\\\n",
       "\t 2562-05-01 & ลำไย    &  20 & 500\\\\\n",
       "\\end{tabular}\n"
      ],
      "text/markdown": [
       "\n",
       "A data.frame: 6 × 4\n",
       "\n",
       "| date &lt;date&gt; | product &lt;chr&gt; | price &lt;dbl&gt; | quantity &lt;dbl&gt; |\n",
       "|---|---|---|---|\n",
       "| 2562-04-01 | ทุเรียน | 120 | 500 |\n",
       "| 2562-04-01 | มังคุด  |  50 | 300 |\n",
       "| 2562-04-01 | ลำไย    |  30 | 400 |\n",
       "| 2562-05-01 | ทุเรียน | 130 | 600 |\n",
       "| 2562-05-01 | มังคุด  |  40 | 200 |\n",
       "| 2562-05-01 | ลำไย    |  20 | 500 |\n",
       "\n"
      ],
      "text/plain": [
       "  date       product price quantity\n",
       "1 2562-04-01 ทุเรียน 120   500     \n",
       "2 2562-04-01 มังคุด   50   300     \n",
       "3 2562-04-01 ลำไย     30   400     \n",
       "4 2562-05-01 ทุเรียน 130   600     \n",
       "5 2562-05-01 มังคุด   40   200     \n",
       "6 2562-05-01 ลำไย     20   500     "
      ]
     },
     "metadata": {},
     "output_type": "display_data"
    }
   ],
   "source": [
    "xlsx::read.xlsx2(\n",
    "  path_th, 1,\n",
    "  colClasses = c('Date', 'character', rep('numeric', 2))\n",
    ")"
   ]
  },
  {
   "cell_type": "markdown",
   "metadata": {},
   "source": [
    "### การอ่านไฟล์ทุกชีท"
   ]
  },
  {
   "cell_type": "code",
   "execution_count": 89,
   "metadata": {},
   "outputs": [
    {
     "data": {
      "text/html": [
       "<style>\n",
       ".list-inline {list-style: none; margin:0; padding: 0}\n",
       ".list-inline>li {display: inline-block}\n",
       ".list-inline>li:not(:last-child)::after {content: \"\\00b7\"; padding: 0 .5ex}\n",
       "</style>\n",
       "<ol class=list-inline><li>'long'</li><li>'wide1'</li><li>'wide2'</li></ol>\n"
      ],
      "text/latex": [
       "\\begin{enumerate*}\n",
       "\\item 'long'\n",
       "\\item 'wide1'\n",
       "\\item 'wide2'\n",
       "\\end{enumerate*}\n"
      ],
      "text/markdown": [
       "1. 'long'\n",
       "2. 'wide1'\n",
       "3. 'wide2'\n",
       "\n",
       "\n"
      ],
      "text/plain": [
       "[1] \"long\"  \"wide1\" \"wide2\""
      ]
     },
     "metadata": {},
     "output_type": "display_data"
    }
   ],
   "source": [
    "wb = loadWorkbook(path_th)\n",
    "sheets = getSheets(wb) %>% names()\n",
    "sheets = set_names(sheets, sheets)\n",
    "sheets"
   ]
  },
  {
   "cell_type": "code",
   "execution_count": 95,
   "metadata": {},
   "outputs": [
    {
     "data": {
      "text/html": [
       "<dl>\n",
       "\t<dt>$long</dt>\n",
       "\t\t<dd><table>\n",
       "<caption>A data.frame: 6 × 4</caption>\n",
       "<thead>\n",
       "\t<tr><th scope=col>date</th><th scope=col>product</th><th scope=col>price</th><th scope=col>quantity</th></tr>\n",
       "\t<tr><th scope=col>&lt;chr&gt;</th><th scope=col>&lt;chr&gt;</th><th scope=col>&lt;chr&gt;</th><th scope=col>&lt;chr&gt;</th></tr>\n",
       "</thead>\n",
       "<tbody>\n",
       "\t<tr><td>241883</td><td>ทุเรียน</td><td>120</td><td>500</td></tr>\n",
       "\t<tr><td>241883</td><td>มังคุด </td><td>50 </td><td>300</td></tr>\n",
       "\t<tr><td>241883</td><td>ลำไย   </td><td>30 </td><td>400</td></tr>\n",
       "\t<tr><td>241913</td><td>ทุเรียน</td><td>130</td><td>600</td></tr>\n",
       "\t<tr><td>241913</td><td>มังคุด </td><td>40 </td><td>200</td></tr>\n",
       "\t<tr><td>241913</td><td>ลำไย   </td><td>20 </td><td>500</td></tr>\n",
       "</tbody>\n",
       "</table>\n",
       "</dd>\n",
       "\t<dt>$wide1</dt>\n",
       "\t\t<dd><table>\n",
       "<caption>A data.frame: 2 × 7</caption>\n",
       "<thead>\n",
       "\t<tr><th scope=col>date</th><th scope=col>ทุเรียน_ราคา</th><th scope=col>ทุเรียน_ปริมาณ</th><th scope=col>มังคุด_ราคา</th><th scope=col>มังคุด_ปริมาณ</th><th scope=col>ลำไย_ราคา</th><th scope=col>ลำไย_ปริมาณ</th></tr>\n",
       "\t<tr><th scope=col>&lt;chr&gt;</th><th scope=col>&lt;chr&gt;</th><th scope=col>&lt;chr&gt;</th><th scope=col>&lt;chr&gt;</th><th scope=col>&lt;chr&gt;</th><th scope=col>&lt;chr&gt;</th><th scope=col>&lt;chr&gt;</th></tr>\n",
       "</thead>\n",
       "<tbody>\n",
       "\t<tr><td>241883</td><td>120</td><td>500</td><td>50</td><td>300</td><td>30</td><td>400</td></tr>\n",
       "\t<tr><td>241913</td><td>130</td><td>600</td><td>40</td><td>200</td><td>20</td><td>500</td></tr>\n",
       "</tbody>\n",
       "</table>\n",
       "</dd>\n",
       "\t<dt>$wide2</dt>\n",
       "\t\t<dd><table>\n",
       "<caption>A data.frame: 3 × 7</caption>\n",
       "<thead>\n",
       "\t<tr><th scope=col>date</th><th scope=col>ทุเรียน</th><th scope=col>X.</th><th scope=col>มังคุด</th><th scope=col>X..1</th><th scope=col>ลำไย</th><th scope=col>X..2</th></tr>\n",
       "\t<tr><th scope=col>&lt;chr&gt;</th><th scope=col>&lt;chr&gt;</th><th scope=col>&lt;chr&gt;</th><th scope=col>&lt;chr&gt;</th><th scope=col>&lt;chr&gt;</th><th scope=col>&lt;chr&gt;</th><th scope=col>&lt;chr&gt;</th></tr>\n",
       "</thead>\n",
       "<tbody>\n",
       "\t<tr><td>      </td><td>ราคา</td><td>ปริมาณ</td><td>ราคา</td><td>ปริมาณ</td><td>ราคา</td><td>ปริมาณ</td></tr>\n",
       "\t<tr><td>241883</td><td>120 </td><td>500   </td><td>50  </td><td>300   </td><td>30  </td><td>400   </td></tr>\n",
       "\t<tr><td>241913</td><td>130 </td><td>600   </td><td>40  </td><td>200   </td><td>20  </td><td>500   </td></tr>\n",
       "</tbody>\n",
       "</table>\n",
       "</dd>\n",
       "</dl>\n"
      ],
      "text/latex": [
       "\\begin{description}\n",
       "\\item[\\$long] A data.frame: 6 × 4\n",
       "\\begin{tabular}{llll}\n",
       " date & product & price & quantity\\\\\n",
       " <chr> & <chr> & <chr> & <chr>\\\\\n",
       "\\hline\n",
       "\t 241883 & ทุเรียน & 120 & 500\\\\\n",
       "\t 241883 & มังคุด  & 50  & 300\\\\\n",
       "\t 241883 & ลำไย    & 30  & 400\\\\\n",
       "\t 241913 & ทุเรียน & 130 & 600\\\\\n",
       "\t 241913 & มังคุด  & 40  & 200\\\\\n",
       "\t 241913 & ลำไย    & 20  & 500\\\\\n",
       "\\end{tabular}\n",
       "\n",
       "\\item[\\$wide1] A data.frame: 2 × 7\n",
       "\\begin{tabular}{lllllll}\n",
       " date & ทุเรียน\\_ราคา & ทุเรียน\\_ปริมาณ & มังคุด\\_ราคา & มังคุด\\_ปริมาณ & ลำไย\\_ราคา & ลำไย\\_ปริมาณ\\\\\n",
       " <chr> & <chr> & <chr> & <chr> & <chr> & <chr> & <chr>\\\\\n",
       "\\hline\n",
       "\t 241883 & 120 & 500 & 50 & 300 & 30 & 400\\\\\n",
       "\t 241913 & 130 & 600 & 40 & 200 & 20 & 500\\\\\n",
       "\\end{tabular}\n",
       "\n",
       "\\item[\\$wide2] A data.frame: 3 × 7\n",
       "\\begin{tabular}{lllllll}\n",
       " date & ทุเรียน & X. & มังคุด & X..1 & ลำไย & X..2\\\\\n",
       " <chr> & <chr> & <chr> & <chr> & <chr> & <chr> & <chr>\\\\\n",
       "\\hline\n",
       "\t        & ราคา & ปริมาณ & ราคา & ปริมาณ & ราคา & ปริมาณ\\\\\n",
       "\t 241883 & 120  & 500    & 50   & 300    & 30   & 400   \\\\\n",
       "\t 241913 & 130  & 600    & 40   & 200    & 20   & 500   \\\\\n",
       "\\end{tabular}\n",
       "\n",
       "\\end{description}\n"
      ],
      "text/markdown": [
       "$long\n",
       ":   \n",
       "A data.frame: 6 × 4\n",
       "\n",
       "| date &lt;chr&gt; | product &lt;chr&gt; | price &lt;chr&gt; | quantity &lt;chr&gt; |\n",
       "|---|---|---|---|\n",
       "| 241883 | ทุเรียน | 120 | 500 |\n",
       "| 241883 | มังคุด  | 50  | 300 |\n",
       "| 241883 | ลำไย    | 30  | 400 |\n",
       "| 241913 | ทุเรียน | 130 | 600 |\n",
       "| 241913 | มังคุด  | 40  | 200 |\n",
       "| 241913 | ลำไย    | 20  | 500 |\n",
       "\n",
       "\n",
       "$wide1\n",
       ":   \n",
       "A data.frame: 2 × 7\n",
       "\n",
       "| date &lt;chr&gt; | ทุเรียน_ราคา &lt;chr&gt; | ทุเรียน_ปริมาณ &lt;chr&gt; | มังคุด_ราคา &lt;chr&gt; | มังคุด_ปริมาณ &lt;chr&gt; | ลำไย_ราคา &lt;chr&gt; | ลำไย_ปริมาณ &lt;chr&gt; |\n",
       "|---|---|---|---|---|---|---|\n",
       "| 241883 | 120 | 500 | 50 | 300 | 30 | 400 |\n",
       "| 241913 | 130 | 600 | 40 | 200 | 20 | 500 |\n",
       "\n",
       "\n",
       "$wide2\n",
       ":   \n",
       "A data.frame: 3 × 7\n",
       "\n",
       "| date &lt;chr&gt; | ทุเรียน &lt;chr&gt; | X. &lt;chr&gt; | มังคุด &lt;chr&gt; | X..1 &lt;chr&gt; | ลำไย &lt;chr&gt; | X..2 &lt;chr&gt; |\n",
       "|---|---|---|---|---|---|---|\n",
       "| <!----> | ราคา | ปริมาณ | ราคา | ปริมาณ | ราคา | ปริมาณ |\n",
       "| 241883 | 120  | 500    | 50   | 300    | 30   | 400    |\n",
       "| 241913 | 130  | 600    | 40   | 200    | 20   | 500    |\n",
       "\n",
       "\n",
       "\n",
       "\n"
      ],
      "text/plain": [
       "$long\n",
       "    date product price quantity\n",
       "1 241883 ทุเรียน   120      500\n",
       "2 241883  มังคุด    50      300\n",
       "3 241883    ลำไย    30      400\n",
       "4 241913 ทุเรียน   130      600\n",
       "5 241913  มังคุด    40      200\n",
       "6 241913    ลำไย    20      500\n",
       "\n",
       "$wide1\n",
       "    date ทุเรียน_ราคา ทุเรียน_ปริมาณ มังคุด_ราคา มังคุด_ปริมาณ ลำไย_ราคา\n",
       "1 241883          120            500          50           300        30\n",
       "2 241913          130            600          40           200        20\n",
       "  ลำไย_ปริมาณ\n",
       "1         400\n",
       "2         500\n",
       "\n",
       "$wide2\n",
       "    date ทุเรียน     X. มังคุด   X..1 ลำไย   X..2\n",
       "1           ราคา ปริมาณ   ราคา ปริมาณ ราคา ปริมาณ\n",
       "2 241883     120    500     50    300   30    400\n",
       "3 241913     130    600     40    200   20    500\n"
      ]
     },
     "metadata": {},
     "output_type": "display_data"
    }
   ],
   "source": [
    "sheets %>% \n",
    "  map(~ xlsx::read.xlsx2(path_th, .x))"
   ]
  }
 ],
 "metadata": {
  "kernelspec": {
   "display_name": "R",
   "language": "R",
   "name": "ir"
  },
  "language_info": {
   "codemirror_mode": "r",
   "file_extension": ".r",
   "mimetype": "text/x-r-source",
   "name": "R",
   "pygments_lexer": "r",
   "version": "4.0.0"
  }
 },
 "nbformat": 4,
 "nbformat_minor": 4
}
